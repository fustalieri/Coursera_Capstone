{
    "cells": [
        {
            "metadata": {},
            "cell_type": "code",
            "source": " !pip install ipython-sql",
            "execution_count": 44,
            "outputs": [
                {
                    "output_type": "stream",
                    "text": "Requirement already satisfied: ipython-sql in /opt/conda/envs/Python36/lib/python3.6/site-packages (0.3.9)\nRequirement already satisfied: six in /opt/conda/envs/Python36/lib/python3.6/site-packages (from ipython-sql) (1.12.0)\nRequirement already satisfied: ipython>=1.0 in /opt/conda/envs/Python36/lib/python3.6/site-packages (from ipython-sql) (7.2.0)\nRequirement already satisfied: sqlparse in /opt/conda/envs/Python36/lib/python3.6/site-packages (from ipython-sql) (0.3.0)\nRequirement already satisfied: ipython-genutils>=0.1.0 in /opt/conda/envs/Python36/lib/python3.6/site-packages (from ipython-sql) (0.2.0)\nRequirement already satisfied: sqlalchemy>=0.6.7 in /opt/conda/envs/Python36/lib/python3.6/site-packages (from ipython-sql) (1.2.18)\nRequirement already satisfied: prettytable in /opt/conda/envs/Python36/lib/python3.6/site-packages (from ipython-sql) (0.7.2)\nRequirement already satisfied: pexpect; sys_platform != \"win32\" in /opt/conda/envs/Python36/lib/python3.6/site-packages (from ipython>=1.0->ipython-sql) (4.6.0)\nRequirement already satisfied: pickleshare in /opt/conda/envs/Python36/lib/python3.6/site-packages (from ipython>=1.0->ipython-sql) (0.7.5)\nRequirement already satisfied: prompt-toolkit<2.1.0,>=2.0.0 in /opt/conda/envs/Python36/lib/python3.6/site-packages (from ipython>=1.0->ipython-sql) (2.0.8)\nRequirement already satisfied: jedi>=0.10 in /opt/conda/envs/Python36/lib/python3.6/site-packages (from ipython>=1.0->ipython-sql) (0.13.2)\nRequirement already satisfied: pygments in /opt/conda/envs/Python36/lib/python3.6/site-packages (from ipython>=1.0->ipython-sql) (2.3.1)\nRequirement already satisfied: backcall in /opt/conda/envs/Python36/lib/python3.6/site-packages (from ipython>=1.0->ipython-sql) (0.1.0)\nRequirement already satisfied: decorator in /opt/conda/envs/Python36/lib/python3.6/site-packages (from ipython>=1.0->ipython-sql) (4.3.2)\nRequirement already satisfied: setuptools>=18.5 in /opt/conda/envs/Python36/lib/python3.6/site-packages (from ipython>=1.0->ipython-sql) (40.8.0)\nRequirement already satisfied: traitlets>=4.2 in /opt/conda/envs/Python36/lib/python3.6/site-packages (from ipython>=1.0->ipython-sql) (4.3.2)\nRequirement already satisfied: ptyprocess>=0.5 in /opt/conda/envs/Python36/lib/python3.6/site-packages (from pexpect; sys_platform != \"win32\"->ipython>=1.0->ipython-sql) (0.6.0)\nRequirement already satisfied: wcwidth in /opt/conda/envs/Python36/lib/python3.6/site-packages (from prompt-toolkit<2.1.0,>=2.0.0->ipython>=1.0->ipython-sql) (0.1.7)\nRequirement already satisfied: parso>=0.3.0 in /opt/conda/envs/Python36/lib/python3.6/site-packages (from jedi>=0.10->ipython>=1.0->ipython-sql) (0.3.2)\n",
                    "name": "stdout"
                }
            ]
        },
        {
            "metadata": {
                "scrolled": true
            },
            "cell_type": "code",
            "source": "%reload_ext sql",
            "execution_count": 46,
            "outputs": []
        },
        {
            "metadata": {},
            "cell_type": "markdown",
            "source": " Remember the connection string is of the format:\n%sql ibm_db_sa://my-username:my-password@my-hostname:my-port/my-db-name\nEnter the connection string for your Db2 on Cloud database instance below"
        },
        {
            "metadata": {},
            "cell_type": "code",
            "source": "%sql ibm_db_sa://qhb39394:hsjcnv2jzxl0-1hl@dashdb-txn-sbox-yp-dal09-03.services.dal.bluemix.net:50000/BLUDB",
            "execution_count": 47,
            "outputs": [
                {
                    "output_type": "execute_result",
                    "execution_count": 47,
                    "data": {
                        "text/plain": "'Connected: qhb39394@BLUDB'"
                    },
                    "metadata": {}
                }
            ]
        },
        {
            "metadata": {},
            "cell_type": "markdown",
            "source": "### Store the Chicago Socioeconomic Indicators dataset into a CENSUS_DATA table"
        },
        {
            "metadata": {},
            "cell_type": "code",
            "source": "import pandas\nCENSUS_DATA = pandas.read_csv('https://ibm.box.com/shared/static/05c3415cbfbtfnr2fx4atenb2sd361ze.csv')\n%sql PERSIST CENSUS_DATA",
            "execution_count": 48,
            "outputs": [
                {
                    "output_type": "stream",
                    "text": " * ibm_db_sa://qhb39394:***@dashdb-txn-sbox-yp-dal09-03.services.dal.bluemix.net:50000/BLUDB\n",
                    "name": "stdout"
                },
                {
                    "output_type": "execute_result",
                    "execution_count": 48,
                    "data": {
                        "text/plain": "'Persisted census_data'"
                    },
                    "metadata": {}
                }
            ]
        },
        {
            "metadata": {},
            "cell_type": "markdown",
            "source": "### Store the Chicago Public Schools dataset into a CHICAGO_PUBLIC_SCHOOLS table"
        },
        {
            "metadata": {},
            "cell_type": "code",
            "source": "CHICAGO_PUBLIC_SCHOOLS = pandas.read_csv('https://ibm.box.com/shared/static/0g7kbanvn5l2gt2qu38ukooatnjqyuys.csv')\n%sql PERSIST CHICAGO_PUBLIC_SCHOOLS",
            "execution_count": 49,
            "outputs": [
                {
                    "output_type": "stream",
                    "text": " * ibm_db_sa://qhb39394:***@dashdb-txn-sbox-yp-dal09-03.services.dal.bluemix.net:50000/BLUDB\n",
                    "name": "stdout"
                },
                {
                    "output_type": "execute_result",
                    "execution_count": 49,
                    "data": {
                        "text/plain": "'Persisted chicago_public_schools'"
                    },
                    "metadata": {}
                }
            ]
        },
        {
            "metadata": {},
            "cell_type": "markdown",
            "source": "### Store the Chicago Crime Data dataset into a CHICAGO_CRIME_DATA table"
        },
        {
            "metadata": {},
            "cell_type": "code",
            "source": "CHICAGO_CRIME_DATA = pandas.read_csv('https://ibm.box.com/shared/static/svflyugsr9zbqy5bmowgswqemfpm1x7f.csv')\n%sql PERSIST CHICAGO_CRIME_DATA",
            "execution_count": 50,
            "outputs": [
                {
                    "output_type": "stream",
                    "text": " * ibm_db_sa://qhb39394:***@dashdb-txn-sbox-yp-dal09-03.services.dal.bluemix.net:50000/BLUDB\n",
                    "name": "stdout"
                },
                {
                    "output_type": "execute_result",
                    "execution_count": 50,
                    "data": {
                        "text/plain": "'Persisted chicago_crime_data'"
                    },
                    "metadata": {}
                }
            ]
        },
        {
            "metadata": {},
            "cell_type": "markdown",
            "source": "# Problems\n\nNow write and execute SQL queries to solve assignment problems\n\n## Problem 1\n***Find the total number of crimes recorded in the CRIME table***"
        },
        {
            "metadata": {},
            "cell_type": "code",
            "source": "# Rows in Crime table\n%sql select count(*) from CHICAGO_CRIME_DATA",
            "execution_count": 64,
            "outputs": [
                {
                    "output_type": "stream",
                    "text": " * ibm_db_sa://qhb39394:***@dashdb-txn-sbox-yp-dal09-03.services.dal.bluemix.net:50000/BLUDB\nDone.\n",
                    "name": "stdout"
                },
                {
                    "output_type": "execute_result",
                    "execution_count": 64,
                    "data": {
                        "text/plain": "[(Decimal('533'),)]",
                        "text/html": "<table>\n    <tr>\n        <th>1</th>\n    </tr>\n    <tr>\n        <td>533</td>\n    </tr>\n</table>"
                    },
                    "metadata": {}
                }
            ]
        },
        {
            "metadata": {},
            "cell_type": "markdown",
            "source": "## Problem 2\n\n***Retrieve first 10 rows from the CRIME table***"
        },
        {
            "metadata": {
                "scrolled": true
            },
            "cell_type": "code",
            "source": "%sql select * from CHICAGO_CRIME_DATA fetch first 10 rows only",
            "execution_count": 65,
            "outputs": [
                {
                    "output_type": "stream",
                    "text": " * ibm_db_sa://qhb39394:***@dashdb-txn-sbox-yp-dal09-03.services.dal.bluemix.net:50000/BLUDB\nDone.\n",
                    "name": "stdout"
                },
                {
                    "output_type": "execute_result",
                    "execution_count": 65,
                    "data": {
                        "text/plain": "[(0, 3512276, 'HK587712', '08/28/2004 05:50:56 PM', '047XX S KEDZIE AVE', '890', 'THEFT', 'FROM BUILDING', 'SMALL RETAIL STORE', 0, 0, 911, 9, 14.0, 58.0, '6', 1155838.0, 1873050.0, 2004, '02/10/2018 03:50:01 PM', 41.807440500000006, -87.70395585, '(41.8074405, -87.703955849)'),\n (1, 3406613, 'HK456306', '06/26/2004 12:40:00 PM', '009XX N CENTRAL PARK AVE', '820', 'THEFT', '$500 AND UNDER', 'OTHER', 0, 0, 1112, 11, 27.0, 23.0, '6', 1152206.0, 1906127.0, 2004, '02/28/2018 03:56:25 PM', 41.89827996, -87.71640551, '(41.898279962, -87.716405505)'),\n (2, 8002131, 'HT233595', '04/04/2011 05:45:00 AM', '043XX S WABASH AVE', '820', 'THEFT', '$500 AND UNDER', 'NURSING HOME/RETIREMENT HOME', 0, 0, 221, 2, 3.0, 38.0, '6', 1177436.0, 1876313.0, 2011, '02/10/2018 03:50:01 PM', 41.81593313, -87.62464213, '(41.815933131, -87.624642127)'),\n (3, 7903289, 'HT133522', '12/30/2010 04:30:00 PM', '083XX S KINGSTON AVE', '840', 'THEFT', 'FINANCIAL ID THEFT: OVER $300', 'RESIDENCE', 0, 0, 423, 4, 7.0, 46.0, '6', 1194622.0, 1850125.0, 2010, '02/10/2018 03:50:01 PM', 41.74366532, -87.56246276, '(41.743665322, -87.562462756)'),\n (4, 10402076, 'HZ138551', '02/02/2016 07:30:00 PM', '033XX W 66TH ST', '820', 'THEFT', '$500 AND UNDER', 'ALLEY', 0, 0, 831, 8, 15.0, 66.0, '6', 1155240.0, 1860661.0, 2016, '02/10/2018 03:50:01 PM', 41.773455299999995, -87.70648047, '(41.773455295, -87.706480471)'),\n (5, 7732712, 'HS540106', '09/29/2010 07:59:00 AM', '006XX W CHICAGO AVE', '810', 'THEFT', 'OVER $500', 'PARKING LOT/GARAGE(NON.RESID.)', 0, 0, 1323, 12, 27.0, 24.0, '6', 1171668.0, 1905607.0, 2010, '02/10/2018 03:50:01 PM', 41.89644677, -87.64493868, '(41.896446772, -87.644938678)'),\n (6, 10769475, 'HZ534771', '11/30/2016 01:15:00 AM', '050XX N KEDZIE AVE', '810', 'THEFT', 'OVER $500', 'STREET', 0, 0, 1713, 17, 33.0, 14.0, '6', 1154133.0, 1933314.0, 2016, '02/10/2018 03:50:01 PM', 41.97284491, -87.70860008, '(41.972844913, -87.708600079)'),\n (7, 4494340, 'HL793243', '12/16/2005 04:45:00 PM', '005XX E PERSHING RD', '860', 'THEFT', 'RETAIL THEFT', 'GROCERY FOOD STORE', 1, 0, 213, 2, 3.0, 38.0, '6', 1180448.0, 1879234.0, 2005, '02/28/2018 03:56:25 PM', 41.82387989, -87.61350386, '(41.823879885, -87.613503857)'),\n (8, 3778925, 'HL149610', '01/28/2005 05:00:00 PM', '100XX S WASHTENAW AVE', '810', 'THEFT', 'OVER $500', 'STREET', 0, 0, 2211, 22, 19.0, 72.0, '6', 1160129.0, 1838040.0, 2005, '02/28/2018 03:56:25 PM', 41.71128051, -87.68917909999999, '(41.711280513, -87.689179097)'),\n (9, 3324217, 'HK361551', '05/13/2004 02:15:00 PM', '033XX W BELMONT AVE', '820', 'THEFT', '$500 AND UNDER', 'SMALL RETAIL STORE', 0, 0, 1733, 17, 35.0, 21.0, '6', 1153590.0, 1921084.0, 2004, '02/28/2018 03:56:25 PM', 41.93929582, -87.71092344, '(41.939295821, -87.710923442)')]",
                        "text/html": "<table>\n    <tr>\n        <th>index</th>\n        <th>id</th>\n        <th>case_number</th>\n        <th>DATE</th>\n        <th>block</th>\n        <th>iucr</th>\n        <th>primary_type</th>\n        <th>description</th>\n        <th>location_description</th>\n        <th>arrest</th>\n        <th>domestic</th>\n        <th>beat</th>\n        <th>district</th>\n        <th>ward</th>\n        <th>community_area_number</th>\n        <th>fbicode</th>\n        <th>x_coordinate</th>\n        <th>y_coordinate</th>\n        <th>YEAR</th>\n        <th>updatedon</th>\n        <th>latitude</th>\n        <th>longitude</th>\n        <th>location</th>\n    </tr>\n    <tr>\n        <td>0</td>\n        <td>3512276</td>\n        <td>HK587712</td>\n        <td>08/28/2004 05:50:56 PM</td>\n        <td>047XX S KEDZIE AVE</td>\n        <td>890</td>\n        <td>THEFT</td>\n        <td>FROM BUILDING</td>\n        <td>SMALL RETAIL STORE</td>\n        <td>0</td>\n        <td>0</td>\n        <td>911</td>\n        <td>9</td>\n        <td>14.0</td>\n        <td>58.0</td>\n        <td>6</td>\n        <td>1155838.0</td>\n        <td>1873050.0</td>\n        <td>2004</td>\n        <td>02/10/2018 03:50:01 PM</td>\n        <td>41.807440500000006</td>\n        <td>-87.70395585</td>\n        <td>(41.8074405, -87.703955849)</td>\n    </tr>\n    <tr>\n        <td>1</td>\n        <td>3406613</td>\n        <td>HK456306</td>\n        <td>06/26/2004 12:40:00 PM</td>\n        <td>009XX N CENTRAL PARK AVE</td>\n        <td>820</td>\n        <td>THEFT</td>\n        <td>$500 AND UNDER</td>\n        <td>OTHER</td>\n        <td>0</td>\n        <td>0</td>\n        <td>1112</td>\n        <td>11</td>\n        <td>27.0</td>\n        <td>23.0</td>\n        <td>6</td>\n        <td>1152206.0</td>\n        <td>1906127.0</td>\n        <td>2004</td>\n        <td>02/28/2018 03:56:25 PM</td>\n        <td>41.89827996</td>\n        <td>-87.71640551</td>\n        <td>(41.898279962, -87.716405505)</td>\n    </tr>\n    <tr>\n        <td>2</td>\n        <td>8002131</td>\n        <td>HT233595</td>\n        <td>04/04/2011 05:45:00 AM</td>\n        <td>043XX S WABASH AVE</td>\n        <td>820</td>\n        <td>THEFT</td>\n        <td>$500 AND UNDER</td>\n        <td>NURSING HOME/RETIREMENT HOME</td>\n        <td>0</td>\n        <td>0</td>\n        <td>221</td>\n        <td>2</td>\n        <td>3.0</td>\n        <td>38.0</td>\n        <td>6</td>\n        <td>1177436.0</td>\n        <td>1876313.0</td>\n        <td>2011</td>\n        <td>02/10/2018 03:50:01 PM</td>\n        <td>41.81593313</td>\n        <td>-87.62464213</td>\n        <td>(41.815933131, -87.624642127)</td>\n    </tr>\n    <tr>\n        <td>3</td>\n        <td>7903289</td>\n        <td>HT133522</td>\n        <td>12/30/2010 04:30:00 PM</td>\n        <td>083XX S KINGSTON AVE</td>\n        <td>840</td>\n        <td>THEFT</td>\n        <td>FINANCIAL ID THEFT: OVER $300</td>\n        <td>RESIDENCE</td>\n        <td>0</td>\n        <td>0</td>\n        <td>423</td>\n        <td>4</td>\n        <td>7.0</td>\n        <td>46.0</td>\n        <td>6</td>\n        <td>1194622.0</td>\n        <td>1850125.0</td>\n        <td>2010</td>\n        <td>02/10/2018 03:50:01 PM</td>\n        <td>41.74366532</td>\n        <td>-87.56246276</td>\n        <td>(41.743665322, -87.562462756)</td>\n    </tr>\n    <tr>\n        <td>4</td>\n        <td>10402076</td>\n        <td>HZ138551</td>\n        <td>02/02/2016 07:30:00 PM</td>\n        <td>033XX W 66TH ST</td>\n        <td>820</td>\n        <td>THEFT</td>\n        <td>$500 AND UNDER</td>\n        <td>ALLEY</td>\n        <td>0</td>\n        <td>0</td>\n        <td>831</td>\n        <td>8</td>\n        <td>15.0</td>\n        <td>66.0</td>\n        <td>6</td>\n        <td>1155240.0</td>\n        <td>1860661.0</td>\n        <td>2016</td>\n        <td>02/10/2018 03:50:01 PM</td>\n        <td>41.773455299999995</td>\n        <td>-87.70648047</td>\n        <td>(41.773455295, -87.706480471)</td>\n    </tr>\n    <tr>\n        <td>5</td>\n        <td>7732712</td>\n        <td>HS540106</td>\n        <td>09/29/2010 07:59:00 AM</td>\n        <td>006XX W CHICAGO AVE</td>\n        <td>810</td>\n        <td>THEFT</td>\n        <td>OVER $500</td>\n        <td>PARKING LOT/GARAGE(NON.RESID.)</td>\n        <td>0</td>\n        <td>0</td>\n        <td>1323</td>\n        <td>12</td>\n        <td>27.0</td>\n        <td>24.0</td>\n        <td>6</td>\n        <td>1171668.0</td>\n        <td>1905607.0</td>\n        <td>2010</td>\n        <td>02/10/2018 03:50:01 PM</td>\n        <td>41.89644677</td>\n        <td>-87.64493868</td>\n        <td>(41.896446772, -87.644938678)</td>\n    </tr>\n    <tr>\n        <td>6</td>\n        <td>10769475</td>\n        <td>HZ534771</td>\n        <td>11/30/2016 01:15:00 AM</td>\n        <td>050XX N KEDZIE AVE</td>\n        <td>810</td>\n        <td>THEFT</td>\n        <td>OVER $500</td>\n        <td>STREET</td>\n        <td>0</td>\n        <td>0</td>\n        <td>1713</td>\n        <td>17</td>\n        <td>33.0</td>\n        <td>14.0</td>\n        <td>6</td>\n        <td>1154133.0</td>\n        <td>1933314.0</td>\n        <td>2016</td>\n        <td>02/10/2018 03:50:01 PM</td>\n        <td>41.97284491</td>\n        <td>-87.70860008</td>\n        <td>(41.972844913, -87.708600079)</td>\n    </tr>\n    <tr>\n        <td>7</td>\n        <td>4494340</td>\n        <td>HL793243</td>\n        <td>12/16/2005 04:45:00 PM</td>\n        <td>005XX E PERSHING RD</td>\n        <td>860</td>\n        <td>THEFT</td>\n        <td>RETAIL THEFT</td>\n        <td>GROCERY FOOD STORE</td>\n        <td>1</td>\n        <td>0</td>\n        <td>213</td>\n        <td>2</td>\n        <td>3.0</td>\n        <td>38.0</td>\n        <td>6</td>\n        <td>1180448.0</td>\n        <td>1879234.0</td>\n        <td>2005</td>\n        <td>02/28/2018 03:56:25 PM</td>\n        <td>41.82387989</td>\n        <td>-87.61350386</td>\n        <td>(41.823879885, -87.613503857)</td>\n    </tr>\n    <tr>\n        <td>8</td>\n        <td>3778925</td>\n        <td>HL149610</td>\n        <td>01/28/2005 05:00:00 PM</td>\n        <td>100XX S WASHTENAW AVE</td>\n        <td>810</td>\n        <td>THEFT</td>\n        <td>OVER $500</td>\n        <td>STREET</td>\n        <td>0</td>\n        <td>0</td>\n        <td>2211</td>\n        <td>22</td>\n        <td>19.0</td>\n        <td>72.0</td>\n        <td>6</td>\n        <td>1160129.0</td>\n        <td>1838040.0</td>\n        <td>2005</td>\n        <td>02/28/2018 03:56:25 PM</td>\n        <td>41.71128051</td>\n        <td>-87.68917909999999</td>\n        <td>(41.711280513, -87.689179097)</td>\n    </tr>\n    <tr>\n        <td>9</td>\n        <td>3324217</td>\n        <td>HK361551</td>\n        <td>05/13/2004 02:15:00 PM</td>\n        <td>033XX W BELMONT AVE</td>\n        <td>820</td>\n        <td>THEFT</td>\n        <td>$500 AND UNDER</td>\n        <td>SMALL RETAIL STORE</td>\n        <td>0</td>\n        <td>0</td>\n        <td>1733</td>\n        <td>17</td>\n        <td>35.0</td>\n        <td>21.0</td>\n        <td>6</td>\n        <td>1153590.0</td>\n        <td>1921084.0</td>\n        <td>2004</td>\n        <td>02/28/2018 03:56:25 PM</td>\n        <td>41.93929582</td>\n        <td>-87.71092344</td>\n        <td>(41.939295821, -87.710923442)</td>\n    </tr>\n</table>"
                    },
                    "metadata": {}
                }
            ]
        },
        {
            "metadata": {},
            "cell_type": "markdown",
            "source": "## Problem 3\n***How many crimes involve an arrest?***"
        },
        {
            "metadata": {},
            "cell_type": "code",
            "source": "%sql select count(ARREST) \\\nfrom CHICAGO_CRIME_DATA WHERE ARREST=TRUE; ",
            "execution_count": 66,
            "outputs": [
                {
                    "output_type": "stream",
                    "text": " * ibm_db_sa://qhb39394:***@dashdb-txn-sbox-yp-dal09-03.services.dal.bluemix.net:50000/BLUDB\nDone.\n",
                    "name": "stdout"
                },
                {
                    "output_type": "execute_result",
                    "execution_count": 66,
                    "data": {
                        "text/plain": "[(Decimal('163'),)]",
                        "text/html": "<table>\n    <tr>\n        <th>1</th>\n    </tr>\n    <tr>\n        <td>163</td>\n    </tr>\n</table>"
                    },
                    "metadata": {}
                }
            ]
        },
        {
            "metadata": {},
            "cell_type": "markdown",
            "source": "## Problem 4\n\n***Which unique types of crimes have been recorded at GAS STATION locations?***"
        },
        {
            "metadata": {
                "scrolled": true
            },
            "cell_type": "code",
            "source": "%sql select PRIMARY_TYPE \\\nfrom CHICAGO_CRIME_DATA where LOCATION_DESCRIPTION ='GAS STATION';",
            "execution_count": 67,
            "outputs": [
                {
                    "output_type": "stream",
                    "text": " * ibm_db_sa://qhb39394:***@dashdb-txn-sbox-yp-dal09-03.services.dal.bluemix.net:50000/BLUDB\nDone.\n",
                    "name": "stdout"
                },
                {
                    "output_type": "execute_result",
                    "execution_count": 67,
                    "data": {
                        "text/plain": "[('THEFT',),\n ('THEFT',),\n ('NARCOTICS',),\n ('ROBBERY',),\n ('ROBBERY',),\n ('CRIMINAL TRESPASS',)]",
                        "text/html": "<table>\n    <tr>\n        <th>primary_type</th>\n    </tr>\n    <tr>\n        <td>THEFT</td>\n    </tr>\n    <tr>\n        <td>THEFT</td>\n    </tr>\n    <tr>\n        <td>NARCOTICS</td>\n    </tr>\n    <tr>\n        <td>ROBBERY</td>\n    </tr>\n    <tr>\n        <td>ROBBERY</td>\n    </tr>\n    <tr>\n        <td>CRIMINAL TRESPASS</td>\n    </tr>\n</table>"
                    },
                    "metadata": {}
                }
            ]
        },
        {
            "metadata": {},
            "cell_type": "markdown",
            "source": "## Problem 5\n\n***In the CENUS_DATA table list all Community Areas whose names start with the letter \u2018B\u2019.***"
        },
        {
            "metadata": {},
            "cell_type": "code",
            "source": "%sql select COMMUNITY_AREA_NAME from CENSUS_DATA \\\nWHERE COMMUNITY_AREA_NAME LIKE 'B%';",
            "execution_count": 58,
            "outputs": [
                {
                    "output_type": "stream",
                    "text": " * ibm_db_sa://qhb39394:***@dashdb-txn-sbox-yp-dal09-03.services.dal.bluemix.net:50000/BLUDB\nDone.\n",
                    "name": "stdout"
                },
                {
                    "output_type": "execute_result",
                    "execution_count": 58,
                    "data": {
                        "text/plain": "[('Belmont Cragin',),\n ('Burnside',),\n ('Brighton Park',),\n ('Bridgeport',),\n ('Beverly',)]",
                        "text/html": "<table>\n    <tr>\n        <th>community_area_name</th>\n    </tr>\n    <tr>\n        <td>Belmont Cragin</td>\n    </tr>\n    <tr>\n        <td>Burnside</td>\n    </tr>\n    <tr>\n        <td>Brighton Park</td>\n    </tr>\n    <tr>\n        <td>Bridgeport</td>\n    </tr>\n    <tr>\n        <td>Beverly</td>\n    </tr>\n</table>"
                    },
                    "metadata": {}
                }
            ]
        },
        {
            "metadata": {},
            "cell_type": "markdown",
            "source": "## Problem 6\n\n***Which schools in Community Areas 10 to 15 are healthy school certified?***"
        },
        {
            "metadata": {},
            "cell_type": "code",
            "source": "%sql select S.NAME_OF_SCHOOL,C.COMMUNITY_AREA_NUMBER,\\\nC.COMMUNITY_AREA_NAME,S.healthy_school_certified from CENSUS_DATA as  C \\\nLEFT OUTER JOIN CHICAGO_PUBLIC_SCHOOLS as S \\\non UPPER(C.COMMUNITY_AREA_NAME) = UPPER(S.community_area_name) \\\nwhere C.COMMUNITY_AREA_NUMBER between 10 and 15 AND \\\nS.healthy_school_certified = 'Yes';",
            "execution_count": 59,
            "outputs": [
                {
                    "output_type": "stream",
                    "text": " * ibm_db_sa://qhb39394:***@dashdb-txn-sbox-yp-dal09-03.services.dal.bluemix.net:50000/BLUDB\nDone.\n",
                    "name": "stdout"
                },
                {
                    "output_type": "execute_result",
                    "execution_count": 59,
                    "data": {
                        "text/plain": "[('Rufus M Hitch Elementary School', 10.0, 'Norwood Park', 'Yes')]",
                        "text/html": "<table>\n    <tr>\n        <th>name_of_school</th>\n        <th>community_area_number</th>\n        <th>community_area_name</th>\n        <th>healthy_school_certified</th>\n    </tr>\n    <tr>\n        <td>Rufus M Hitch Elementary School</td>\n        <td>10.0</td>\n        <td>Norwood Park</td>\n        <td>Yes</td>\n    </tr>\n</table>"
                    },
                    "metadata": {}
                }
            ]
        },
        {
            "metadata": {},
            "cell_type": "markdown",
            "source": "## Problem 7\n\n***What is the average school Safety Score?***"
        },
        {
            "metadata": {},
            "cell_type": "code",
            "source": "%sql select AVG(SAFETY_SCORE) as AVERAGE_SCRORE from CHICAGO_PUBLIC_SCHOOLS;",
            "execution_count": 60,
            "outputs": [
                {
                    "output_type": "stream",
                    "text": " * ibm_db_sa://qhb39394:***@dashdb-txn-sbox-yp-dal09-03.services.dal.bluemix.net:50000/BLUDB\n(ibm_db_dbi.ProgrammingError) ibm_db_dbi::ProgrammingError: SQLNumResultCols failed: [IBM][CLI Driver][DB2/LINUXX8664] SQL0206N  \"SAFETY_SCORE\" is not valid in the context where it is used.  SQLSTATE=42703 SQLCODE=-206 [SQL: 'select AVG(SAFETY_SCORE) as AVERAGE_SCRORE from CHICAGO_PUBLIC_SCHOOLS;'] (Background on this error at: http://sqlalche.me/e/f405)\n",
                    "name": "stdout"
                }
            ]
        },
        {
            "metadata": {},
            "cell_type": "markdown",
            "source": "## Problem 8\n\n***List the top 5 Community Areas by average College Enrollment [number of students]***\n"
        },
        {
            "metadata": {},
            "cell_type": "code",
            "source": "%sql select COMMUNITY_AREA_NAME,AVG(COLLEGE_ENROLLMENT) as COLLEGE_ENROLLMENT_AVG \\\nfrom CHICAGO_PUBLIC_SCHOOLS GROUP BY COMMUNITY_AREA_NAME order by COLLEGE_ENROLLMENT_AVG desc LIMIT 5;",
            "execution_count": 61,
            "outputs": [
                {
                    "output_type": "stream",
                    "text": " * ibm_db_sa://qhb39394:***@dashdb-txn-sbox-yp-dal09-03.services.dal.bluemix.net:50000/BLUDB\n(ibm_db_dbi.ProgrammingError) ibm_db_dbi::ProgrammingError: SQLNumResultCols failed: [IBM][CLI Driver][DB2/LINUXX8664] SQL0134N  Improper use of a string column, host variable, constant, or function \"COMMUNITY_AREA_NAME\".  SQLSTATE=42907 SQLCODE=-134 [SQL: 'select COMMUNITY_AREA_NAME,AVG(COLLEGE_ENROLLMENT) as COLLEGE_ENROLLMENT_AVG  from CHICAGO_PUBLIC_SCHOOLS GROUP BY COMMUNITY_AREA_NAME order by COLLEGE_ENROLLMENT_AVG desc LIMIT 5;'] (Background on this error at: http://sqlalche.me/e/f405)\n",
                    "name": "stdout"
                }
            ]
        },
        {
            "metadata": {},
            "cell_type": "markdown",
            "source": "## Problem 9\n\n***Use a sub-query to determine which Community Area has the least value for school Safety Score?***"
        },
        {
            "metadata": {},
            "cell_type": "code",
            "source": "%sql select COMMUNITY_AREA_NAME,SAFETY_SCORE from CHICAGO_PUBLIC_SCHOOLS WHERE SAFETY_SCORE = (SELECT MIN(SAFETY_SCORE) FROM CHICAGO_PUBLIC_SCHOOLS);",
            "execution_count": 62,
            "outputs": [
                {
                    "output_type": "stream",
                    "text": " * ibm_db_sa://qhb39394:***@dashdb-txn-sbox-yp-dal09-03.services.dal.bluemix.net:50000/BLUDB\n(ibm_db_dbi.ProgrammingError) ibm_db_dbi::ProgrammingError: SQLNumResultCols failed: [IBM][CLI Driver][DB2/LINUXX8664] SQL0206N  \"SAFETY_SCORE\" is not valid in the context where it is used.  SQLSTATE=42703 SQLCODE=-206 [SQL: 'select COMMUNITY_AREA_NAME,SAFETY_SCORE from CHICAGO_PUBLIC_SCHOOLS WHERE SAFETY_SCORE = (SELECT MIN(SAFETY_SCORE) FROM CHICAGO_PUBLIC_SCHOOLS);'] (Background on this error at: http://sqlalche.me/e/f405)\n",
                    "name": "stdout"
                }
            ]
        },
        {
            "metadata": {},
            "cell_type": "markdown",
            "source": "## Problem 10\n\n***Find the Per Capita Income of the Community Area which has a school Safety Score of 1***"
        },
        {
            "metadata": {},
            "cell_type": "code",
            "source": "%sql select  COMMUNITY_AREA_NAME,per_capita_income from CENSUS_DATA where community_area_number = (select community_area_number from CHICAGO_PUBLIC_SCHOOLS where safety_score = 1);",
            "execution_count": 63,
            "outputs": [
                {
                    "output_type": "stream",
                    "text": " * ibm_db_sa://qhb39394:***@dashdb-txn-sbox-yp-dal09-03.services.dal.bluemix.net:50000/BLUDB\n(ibm_db_dbi.ProgrammingError) ibm_db_dbi::ProgrammingError: SQLNumResultCols failed: [IBM][CLI Driver][DB2/LINUXX8664] SQL0206N  \"SAFETY_SCORE\" is not valid in the context where it is used.  SQLSTATE=42703 SQLCODE=-206 [SQL: 'select  COMMUNITY_AREA_NAME,per_capita_income from CENSUS_DATA where community_area_number = (select community_area_number from CHICAGO_PUBLIC_SCHOOLS where safety_score = 1);'] (Background on this error at: http://sqlalche.me/e/f405)\n",
                    "name": "stdout"
                }
            ]
        },
        {
            "metadata": {},
            "cell_type": "code",
            "source": "",
            "execution_count": null,
            "outputs": []
        }
    ],
    "metadata": {
        "kernelspec": {
            "name": "python3",
            "display_name": "Python 3.6",
            "language": "python"
        },
        "language_info": {
            "name": "python",
            "version": "3.6.8",
            "mimetype": "text/x-python",
            "codemirror_mode": {
                "name": "ipython",
                "version": 3
            },
            "pygments_lexer": "ipython3",
            "nbconvert_exporter": "python",
            "file_extension": ".py"
        }
    },
    "nbformat": 4,
    "nbformat_minor": 1
}